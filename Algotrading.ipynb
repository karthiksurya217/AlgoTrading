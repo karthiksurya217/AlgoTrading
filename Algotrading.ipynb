{
 "cells": [
  {
   "cell_type": "markdown",
   "id": "9d3de897",
   "metadata": {},
   "source": [
    "Library Imports: The list of open-source libraries which will be used in this project."
   ]
  },
  {
   "cell_type": "code",
   "execution_count": null,
   "id": "afa63645",
   "metadata": {},
   "outputs": [],
   "source": [
    "import numpy as np\n",
    "import pandas as pd\n",
    "import requests\n",
    "import xlsxwriter \n",
    "import math"
   ]
  },
  {
   "cell_type": "markdown",
   "id": "939b3f32",
   "metadata": {},
   "source": [
    "Importing the List of Stocks (Static version of S&P 500)"
   ]
  },
  {
   "cell_type": "code",
   "execution_count": null,
   "id": "187f94cf",
   "metadata": {},
   "outputs": [],
   "source": [
    "stocks = pd.read_csv('sp_500_stocks.csv')\n",
    "stocks = stocks[~stocks['Ticker'].isin(['DISCA', 'HFC','VIAC','WLTW'])]"
   ]
  },
  {
   "cell_type": "markdown",
   "id": "a56c9367",
   "metadata": {},
   "source": [
    "Acquiring API (Sandbox mode of IEX cloud API)"
   ]
  },
  {
   "cell_type": "code",
   "execution_count": null,
   "id": "f8b69a79",
   "metadata": {},
   "outputs": [],
   "source": [
    "from secrets import IEX_CLOUD_API_TOKEN"
   ]
  },
  {
   "cell_type": "markdown",
   "id": "4c54797e",
   "metadata": {},
   "source": [
    "Making an API call (Needs Market cap and price of the stock)"
   ]
  },
  {
   "cell_type": "code",
   "execution_count": null,
   "id": "4370ee79",
   "metadata": {
    "scrolled": true
   },
   "outputs": [],
   "source": [
    "symbol = 'AAPL'\n",
    "api_url = f'https://sandbox.iexapis.com/stable/stock/{symbol}/quote/?token={IEX_CLOUD_API_TOKEN}'\n",
    "data = requests.get(api_url).json()"
   ]
  },
  {
   "cell_type": "markdown",
   "id": "830fc8e1",
   "metadata": {},
   "source": [
    "Parsing the API call"
   ]
  },
  {
   "cell_type": "code",
   "execution_count": null,
   "id": "0ea3f3df",
   "metadata": {},
   "outputs": [],
   "source": [
    "price = data['latestPrice']\n",
    "market_cap = data['marketCap']"
   ]
  },
  {
   "cell_type": "markdown",
   "id": "323c0ea8",
   "metadata": {},
   "source": [
    "Adding our Stocks to the Data Frame"
   ]
  },
  {
   "cell_type": "code",
   "execution_count": null,
   "id": "c53e83df",
   "metadata": {},
   "outputs": [],
   "source": [
    "my_columns = ['Ticker','Stock Price','Market Cap','Number of shares to buy']\n",
    "final_dataframe = pd.DataFrame(columns = my_columns)\n",
    "final_dataframe"
   ]
  },
  {
   "cell_type": "code",
   "execution_count": null,
   "id": "63919e3d",
   "metadata": {},
   "outputs": [],
   "source": [
    "final_dataframe.append(\n",
    "    pd.Series(\n",
    "   [ symbol,\n",
    "    price,\n",
    "    market_cap,\n",
    "    'N/A'],\n",
    "        index = my_columns\n",
    "    ),ignore_index=True\n",
    ")"
   ]
  },
  {
   "cell_type": "markdown",
   "id": "b242d6ed",
   "metadata": {},
   "source": [
    "Looping through the Tickers in the Stocks list"
   ]
  },
  {
   "cell_type": "code",
   "execution_count": null,
   "id": "a793f920",
   "metadata": {},
   "outputs": [],
   "source": [
    "final_dataframe = pd.DataFrame(columns = my_columns)\n",
    "for stock in stocks['Ticker'][:5]:\n",
    "    api_url = f'https://sandbox.iexapis.com/stable/stock/{stock}/quote/?token={IEX_CLOUD_API_TOKEN}'\n",
    "    data = requests.get(api_url).json()\n",
    "    final_dataframe = final_dataframe.append(\n",
    "    pd.Series(\n",
    "    [\n",
    "        stock,\n",
    "        data['latestPrice'],\n",
    "        data['marketCap'],\n",
    "        'N/A'\n",
    "    ],index = my_columns),\n",
    "        ignore_index = True\n",
    "    )"
   ]
  },
  {
   "cell_type": "markdown",
   "id": "0cb0b0d2",
   "metadata": {},
   "source": [
    "Using Batchwise API calls"
   ]
  },
  {
   "cell_type": "code",
   "execution_count": 61,
   "id": "209497c6",
   "metadata": {},
   "outputs": [],
   "source": [
    "def chunks(lst, n):\n",
    "    \"\"\"Yield successive n-sized chunks from lst.\"\"\"\n",
    "    for i in range(0, len(lst), n):\n",
    "        yield lst[i:i + n]"
   ]
  },
  {
   "cell_type": "code",
   "execution_count": 62,
   "id": "e855f7b3",
   "metadata": {},
   "outputs": [
    {
     "data": {
      "text/html": [
       "<div>\n",
       "<style scoped>\n",
       "    .dataframe tbody tr th:only-of-type {\n",
       "        vertical-align: middle;\n",
       "    }\n",
       "\n",
       "    .dataframe tbody tr th {\n",
       "        vertical-align: top;\n",
       "    }\n",
       "\n",
       "    .dataframe thead th {\n",
       "        text-align: right;\n",
       "    }\n",
       "</style>\n",
       "<table border=\"1\" class=\"dataframe\">\n",
       "  <thead>\n",
       "    <tr style=\"text-align: right;\">\n",
       "      <th></th>\n",
       "      <th>Ticker</th>\n",
       "      <th>Stock Price</th>\n",
       "      <th>Market Cap</th>\n",
       "      <th>Number of shares to buy</th>\n",
       "    </tr>\n",
       "  </thead>\n",
       "  <tbody>\n",
       "    <tr>\n",
       "      <th>0</th>\n",
       "      <td>A</td>\n",
       "      <td>140.76</td>\n",
       "      <td>43067173276</td>\n",
       "      <td>N/A</td>\n",
       "    </tr>\n",
       "    <tr>\n",
       "      <th>1</th>\n",
       "      <td>AAL</td>\n",
       "      <td>14.00</td>\n",
       "      <td>9204566892</td>\n",
       "      <td>N/A</td>\n",
       "    </tr>\n",
       "    <tr>\n",
       "      <th>2</th>\n",
       "      <td>AAP</td>\n",
       "      <td>191.76</td>\n",
       "      <td>11660679197</td>\n",
       "      <td>N/A</td>\n",
       "    </tr>\n",
       "    <tr>\n",
       "      <th>3</th>\n",
       "      <td>AAPL</td>\n",
       "      <td>161.83</td>\n",
       "      <td>2542733637724</td>\n",
       "      <td>N/A</td>\n",
       "    </tr>\n",
       "    <tr>\n",
       "      <th>4</th>\n",
       "      <td>ABBV</td>\n",
       "      <td>154.79</td>\n",
       "      <td>266673500012</td>\n",
       "      <td>N/A</td>\n",
       "    </tr>\n",
       "    <tr>\n",
       "      <th>...</th>\n",
       "      <td>...</td>\n",
       "      <td>...</td>\n",
       "      <td>...</td>\n",
       "      <td>...</td>\n",
       "    </tr>\n",
       "    <tr>\n",
       "      <th>496</th>\n",
       "      <td>YUM</td>\n",
       "      <td>118.70</td>\n",
       "      <td>33675976104</td>\n",
       "      <td>N/A</td>\n",
       "    </tr>\n",
       "    <tr>\n",
       "      <th>497</th>\n",
       "      <td>ZBH</td>\n",
       "      <td>113.86</td>\n",
       "      <td>24851332230</td>\n",
       "      <td>N/A</td>\n",
       "    </tr>\n",
       "    <tr>\n",
       "      <th>498</th>\n",
       "      <td>ZBRA</td>\n",
       "      <td>301.92</td>\n",
       "      <td>15394462250</td>\n",
       "      <td>N/A</td>\n",
       "    </tr>\n",
       "    <tr>\n",
       "      <th>499</th>\n",
       "      <td>ZION</td>\n",
       "      <td>54.10</td>\n",
       "      <td>7836209519</td>\n",
       "      <td>N/A</td>\n",
       "    </tr>\n",
       "    <tr>\n",
       "      <th>500</th>\n",
       "      <td>ZTS</td>\n",
       "      <td>158.59</td>\n",
       "      <td>71935634708</td>\n",
       "      <td>N/A</td>\n",
       "    </tr>\n",
       "  </tbody>\n",
       "</table>\n",
       "<p>501 rows × 4 columns</p>\n",
       "</div>"
      ],
      "text/plain": [
       "    Ticker  Stock Price     Market Cap Number of shares to buy\n",
       "0        A       140.76    43067173276                     N/A\n",
       "1      AAL        14.00     9204566892                     N/A\n",
       "2      AAP       191.76    11660679197                     N/A\n",
       "3     AAPL       161.83  2542733637724                     N/A\n",
       "4     ABBV       154.79   266673500012                     N/A\n",
       "..     ...          ...            ...                     ...\n",
       "496    YUM       118.70    33675976104                     N/A\n",
       "497    ZBH       113.86    24851332230                     N/A\n",
       "498   ZBRA       301.92    15394462250                     N/A\n",
       "499   ZION        54.10     7836209519                     N/A\n",
       "500    ZTS       158.59    71935634708                     N/A\n",
       "\n",
       "[501 rows x 4 columns]"
      ]
     },
     "execution_count": 62,
     "metadata": {},
     "output_type": "execute_result"
    }
   ],
   "source": [
    "symbol_groups = list(chunks(stocks['Ticker'], 100))\n",
    "symbol_strings = []\n",
    "for i in range(0, len(symbol_groups)):\n",
    "    symbol_strings.append(','.join(symbol_groups[i]))\n",
    "#     print(symbol_strings[i])\n",
    "final_dataframe = pd.DataFrame(columns = my_columns)\n",
    "for symbol_string in symbol_strings:\n",
    "    batch_api_call_url = f'https://sandbox.iexapis.com/stable/stock/market/batch?types=quote&symbols={symbol_string}&token={IEX_CLOUD_API_TOKEN}'\n",
    "    data =requests.get(batch_api_call_url).json()\n",
    "    for symbol in symbol_string.split(','):\n",
    "        final_dataframe = final_dataframe.append(\n",
    "    pd.Series(\n",
    "    [\n",
    "        symbol,\n",
    "        data[symbol]['quote']['latestPrice'],\n",
    "        data[symbol]['quote']['marketCap'],\n",
    "        'N/A'\n",
    "    ],index = my_columns),\n",
    "        ignore_index = True\n",
    "    )\n",
    "final_dataframe\n",
    "        "
   ]
  },
  {
   "cell_type": "markdown",
   "id": "ddfcdebc",
   "metadata": {},
   "source": [
    "Calculating the number of shares to buy"
   ]
  },
  {
   "cell_type": "code",
   "execution_count": 67,
   "id": "0fe3075c",
   "metadata": {},
   "outputs": [
    {
     "name": "stdout",
     "output_type": "stream",
     "text": [
      "Enter the value of your portfolio:10000000\n"
     ]
    }
   ],
   "source": [
    "portfolio_size = input(\"Enter the value of your portfolio:\")\n",
    "\n",
    "try:\n",
    "    val = float(portfolio_size)\n",
    "except ValueError:\n",
    "    print(\"That's not a number! \\n Try again:\")\n",
    "    portfolio_size = input(\"Enter the value of your portfolio:\")"
   ]
  },
  {
   "cell_type": "code",
   "execution_count": 68,
   "id": "8f604cda",
   "metadata": {},
   "outputs": [
    {
     "data": {
      "text/html": [
       "<div>\n",
       "<style scoped>\n",
       "    .dataframe tbody tr th:only-of-type {\n",
       "        vertical-align: middle;\n",
       "    }\n",
       "\n",
       "    .dataframe tbody tr th {\n",
       "        vertical-align: top;\n",
       "    }\n",
       "\n",
       "    .dataframe thead th {\n",
       "        text-align: right;\n",
       "    }\n",
       "</style>\n",
       "<table border=\"1\" class=\"dataframe\">\n",
       "  <thead>\n",
       "    <tr style=\"text-align: right;\">\n",
       "      <th></th>\n",
       "      <th>Ticker</th>\n",
       "      <th>Stock Price</th>\n",
       "      <th>Market Cap</th>\n",
       "      <th>Number of shares to buy</th>\n",
       "    </tr>\n",
       "  </thead>\n",
       "  <tbody>\n",
       "    <tr>\n",
       "      <th>0</th>\n",
       "      <td>A</td>\n",
       "      <td>140.76</td>\n",
       "      <td>43067173276</td>\n",
       "      <td>141</td>\n",
       "    </tr>\n",
       "    <tr>\n",
       "      <th>1</th>\n",
       "      <td>AAL</td>\n",
       "      <td>14.00</td>\n",
       "      <td>9204566892</td>\n",
       "      <td>1425</td>\n",
       "    </tr>\n",
       "    <tr>\n",
       "      <th>2</th>\n",
       "      <td>AAP</td>\n",
       "      <td>191.76</td>\n",
       "      <td>11660679197</td>\n",
       "      <td>104</td>\n",
       "    </tr>\n",
       "    <tr>\n",
       "      <th>3</th>\n",
       "      <td>AAPL</td>\n",
       "      <td>161.83</td>\n",
       "      <td>2542733637724</td>\n",
       "      <td>123</td>\n",
       "    </tr>\n",
       "    <tr>\n",
       "      <th>4</th>\n",
       "      <td>ABBV</td>\n",
       "      <td>154.79</td>\n",
       "      <td>266673500012</td>\n",
       "      <td>128</td>\n",
       "    </tr>\n",
       "    <tr>\n",
       "      <th>...</th>\n",
       "      <td>...</td>\n",
       "      <td>...</td>\n",
       "      <td>...</td>\n",
       "      <td>...</td>\n",
       "    </tr>\n",
       "    <tr>\n",
       "      <th>496</th>\n",
       "      <td>YUM</td>\n",
       "      <td>118.70</td>\n",
       "      <td>33675976104</td>\n",
       "      <td>168</td>\n",
       "    </tr>\n",
       "    <tr>\n",
       "      <th>497</th>\n",
       "      <td>ZBH</td>\n",
       "      <td>113.86</td>\n",
       "      <td>24851332230</td>\n",
       "      <td>175</td>\n",
       "    </tr>\n",
       "    <tr>\n",
       "      <th>498</th>\n",
       "      <td>ZBRA</td>\n",
       "      <td>301.92</td>\n",
       "      <td>15394462250</td>\n",
       "      <td>66</td>\n",
       "    </tr>\n",
       "    <tr>\n",
       "      <th>499</th>\n",
       "      <td>ZION</td>\n",
       "      <td>54.10</td>\n",
       "      <td>7836209519</td>\n",
       "      <td>368</td>\n",
       "    </tr>\n",
       "    <tr>\n",
       "      <th>500</th>\n",
       "      <td>ZTS</td>\n",
       "      <td>158.59</td>\n",
       "      <td>71935634708</td>\n",
       "      <td>N/A</td>\n",
       "    </tr>\n",
       "  </tbody>\n",
       "</table>\n",
       "<p>501 rows × 4 columns</p>\n",
       "</div>"
      ],
      "text/plain": [
       "    Ticker  Stock Price     Market Cap Number of shares to buy\n",
       "0        A       140.76    43067173276                     141\n",
       "1      AAL        14.00     9204566892                    1425\n",
       "2      AAP       191.76    11660679197                     104\n",
       "3     AAPL       161.83  2542733637724                     123\n",
       "4     ABBV       154.79   266673500012                     128\n",
       "..     ...          ...            ...                     ...\n",
       "496    YUM       118.70    33675976104                     168\n",
       "497    ZBH       113.86    24851332230                     175\n",
       "498   ZBRA       301.92    15394462250                      66\n",
       "499   ZION        54.10     7836209519                     368\n",
       "500    ZTS       158.59    71935634708                     N/A\n",
       "\n",
       "[501 rows x 4 columns]"
      ]
     },
     "execution_count": 68,
     "metadata": {},
     "output_type": "execute_result"
    }
   ],
   "source": [
    "position_size = float(portfolio_size) / len(final_dataframe.index)\n",
    "for i in range(0, len(final_dataframe['Ticker'])-1):\n",
    "    final_dataframe.loc[i, 'Number of shares to buy'] = math.floor(position_size / final_dataframe['Stock Price'][i])\n",
    "final_dataframe"
   ]
  },
  {
   "cell_type": "code",
   "execution_count": null,
   "id": "32dffc74",
   "metadata": {},
   "outputs": [],
   "source": []
  }
 ],
 "metadata": {
  "kernelspec": {
   "display_name": "Python 3 (ipykernel)",
   "language": "python",
   "name": "python3"
  },
  "language_info": {
   "codemirror_mode": {
    "name": "ipython",
    "version": 3
   },
   "file_extension": ".py",
   "mimetype": "text/x-python",
   "name": "python",
   "nbconvert_exporter": "python",
   "pygments_lexer": "ipython3",
   "version": "3.9.7"
  }
 },
 "nbformat": 4,
 "nbformat_minor": 5
}
